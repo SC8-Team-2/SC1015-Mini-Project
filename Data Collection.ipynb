{
 "cells": [
  {
   "cell_type": "markdown",
   "id": "e020ad8c-6efa-496b-be86-9dfc455f0114",
   "metadata": {},
   "source": [
    "### Collecting data to build the dataset\n",
    "---\n",
    "I will eventually write some stuff here"
   ]
  },
  {
   "cell_type": "code",
   "execution_count": null,
   "id": "ea642ff5-47b5-48d5-b525-26affc07c3d9",
   "metadata": {},
   "outputs": [
    {
     "name": "stdout",
     "output_type": "stream",
     "text": [
      "(1/34) Retrieving (PST045221) - Population Estimate dataset...\n",
      "(2/34) Retrieving (SEX255220) - Sex (Female persons, percent) dataset...\n",
      "(3/34) Retrieving (RHI125220) - Race (White Alone) dataset...\n",
      "(4/34) Retrieving (RHI225220) - Race (Black Alone) dataset...\n",
      "(5/34) Retrieving (RHI425220) - Race (Asian Alone) dataset...\n",
      "(6/34) Retrieving (VET605220) - Veterans dataset...\n",
      "(7/34) Retrieving (HSG445220) - Owner-occupied housing unit rate dataset...\n",
      "(8/34) Retrieving (HSG495220) - Median value of owner-occupied housing units dataset...\n",
      "(9/34) Retrieving (HSG860220) - Median gross rent dataset...\n",
      "(10/34) Retrieving (HSD310220) - Persons per household dataset...\n",
      "(11/34) Retrieving (POP715220) - Living in same house 1 year ago dataset...\n",
      "(12/34) Retrieving (COM100220) - Households with a computer dataset...\n"
     ]
    }
   ],
   "source": [
    "import pandas as pd # 熊猫\n",
    "\n",
    "# Populate the empty dataframe with list of U.S. states to make adding data easier\n",
    "states = {\n",
    "    'State': [\"Alabama\", \"Alaska\", \"Arizona\", \"Arkansas\", \"California\", \"Colorado\", \"Connecticut\", \"Delaware\", \"District Of Columbia\", \"Florida\", \"Georgia\", \"Hawaii\", \"Idaho\", \"Illinois\", \"Indiana\", \"Iowa\", \"Kansas\", \"Kentucky\", \"Louisiana\", \"Maine\", \"Maryland\", \"Massachusetts\", \"Michigan\", \"Minnesota\", \"Mississippi\", \"Missouri\", \"Montana\", \"Nebraska\", \"Nevada\", \"New Hampshire\", \"New Jersey\", \"New Mexico\", \"New York\", \"North Carolina\", \"North Dakota\", \"Ohio\", \"Oklahoma\", \"Oregon\", \"Pennsylvania\", \"Rhode Island\", \"South Carolina\", \"South Dakota\", \"Tennessee\", \"Texas\", \"Utah\", \"Vermont\", \"Virginia\", \"Washington\", \"West Virginia\", \"Wisconsin\", \"Wyoming\"], \n",
    "    'Code': [\"AL\", \"AK\", \"AZ\", \"AR\", \"CA\", \"CO\", \"CT\", \"DE\", \"DC\", \"FL\", \"GA\", \"HI\", \"ID\", \"IL\", \"IN\", \"IA\", \"KS\", \"KY\", \"LA\", \"ME\", \"MD\", \"MA\", \"MI\", \"MN\", \"MS\", \"MO\", \"MT\", \"NE\", \"NV\", \"NH\", \"NJ\", \"NM\", \"NY\", \"NC\", \"ND\", \"OH\", \"OK\", \"OR\", \"PA\", \"RI\", \"SC\", \"SD\", \"TN\", \"TX\", \"UT\", \"VT\", \"VA\", \"WA\", \"WV\", \"WI\", \"WY\"]\n",
    "}  \n",
    "df = pd.DataFrame(states)\n",
    "\n",
    "# Retrieved from U.S. Census Bureau (https://www.census.gov/quickfacts)\n",
    "datasets = [\n",
    "    ['PST045221', 'Population Estimate'],\n",
    "    ['SEX255220', 'Sex (Female persons, percent)'],\n",
    "    ['RHI125220', 'Race (White Alone)'],\n",
    "    ['RHI225220', 'Race (Black Alone)'],\n",
    "    ['RHI425220', 'Race (Asian Alone)'],\n",
    "    ['VET605220', 'Veterans'],\n",
    "    ['HSG445220', 'Owner-occupied housing unit rate'],\n",
    "    ['HSG495220', 'Median value of owner-occupied housing units'],\n",
    "    ['HSG860220', 'Median gross rent'],\n",
    "    ['HSD310220', 'Persons per household'],\n",
    "    ['POP715220', 'Living in same house 1 year ago'],\n",
    "    ['COM100220', 'Households with a computer'],\n",
    "    ['INT100220', 'Households with a broadband internet subscription'],\n",
    "    ['EDU635220', 'High school graduate or higher, percent above 25 years'],\n",
    "    ['EDU685220', 'Bachelors degree or higher, percent above 25 years'],\n",
    "    ['DIS010220', 'With a disability, percent under 25 years'],\n",
    "    ['HEA775220', 'Without health insurance, percent under 25 years'],\n",
    "    ['LFE041220', 'In civilian labour force, total, percent above 16 years'],\n",
    "    ['LFE046220', 'In civilian labour force, female, percent above 16 years'],\n",
    "    ['AFN120212', 'Total accomodation and food services sales ($1000) 2012'],\n",
    "    ['HCN010212', 'Total health care and social assistance revenue ($1000) 2012'],\n",
    "    ['MAN450212', 'Total manufacturers shipments ($1000) 2012'],\n",
    "    ['LFE305220', 'Mean time to travel to work (minutes)'],\n",
    "    ['INC110220', 'Median household income'],\n",
    "    ['INC910220', 'Per capita income'],\n",
    "    ['IPE120220', 'Persons in poverty, percent'],\n",
    "    ['BZA010219', 'Total employer establishments'],\n",
    "    ['BZA110219', 'Total employment'],\n",
    "    ['BZA210219', 'Total annual payroll ($1000)'],\n",
    "    ['SBO010212', 'Men-owned firms'],\n",
    "    ['SBO020212', 'Women-owned firms'],\n",
    "    ['SBO030212', 'Minority-owned firms'],\n",
    "    ['SBO040212', 'Nonminority-owned firms'],\n",
    "    ['LND110210', 'Land area in square miles']\n",
    "]\n",
    "\n",
    "# Make HTTP requests to census.gov to retrieve data\n",
    "import requests\n",
    "import json\n",
    "\n",
    "count = 0\n",
    "total = len(datasets)\n",
    "\n",
    "for dataset in datasets:\n",
    "    # Counter to keep you entertained\n",
    "    count += 1\n",
    "    print(f\"({count}/{total}) Retrieving ({dataset[0]}) - {dataset[1]} dataset...\")\n",
    "    # User agent header to prevent throttling\n",
    "    headers = {\"User-Agent\": \"Mozilla/5.0 (X11; CrOS x86_64 12871.102.0) AppleWebKit/537.36 (KHTML, like Gecko) Chrome/81.0.4044.141 Safari/537.36\"}\n",
    "    # Get data based on the different U.S. states\n",
    "    data = requests.get(f\"https://www.census.gov/quickfacts/geo/json/00/{dataset[0]}\", headers=headers).json()\n",
    "    state_dict = data['data']\n",
    "    for state in state_dict:\n",
    "        # Add retrieved data to dataframe column\n",
    "        df.loc[df.index[df['Code'] == state_dict[state]['shortName']], dataset[1]] = state_dict[state]['data'][dataset[0]]['value']\n",
    "        \n",
    "print(\"Done!\")"
   ]
  },
  {
   "cell_type": "markdown",
   "id": "69b0f22b-979b-40e1-bcff-48cccfe9b1a4",
   "metadata": {},
   "source": [
    "### More explanation will go here soon\n",
    "---"
   ]
  },
  {
   "cell_type": "code",
   "execution_count": null,
   "id": "74bd7fed-60d5-43fe-856d-8d5b5ef613bb",
   "metadata": {},
   "outputs": [],
   "source": [
    "# Data retrieved from U.S. FBI Uniform Crime Reporting (https://ucr.fbi.gov/crime-in-the-u.s/2019/crime-in-the-u.s.-2019/downloads/download-printable-files)\n",
    "csv_data = pd.read_csv(\"data/Table_69_Arrest_by_State_2019.csv\")\n",
    "csv_data = csv_data.reset_index()\n",
    "\n",
    "# List of columns to read from the crime dataset\n",
    "crimes = [\n",
    "    \"Total all classes\", \n",
    "    \"Violent crime\", \n",
    "    \"Property crime\", \n",
    "    \"Murder and nonnegligent manslaughter\", \n",
    "    \"Rape\", \n",
    "    \"Robbery\", \n",
    "    \"Aggravated assault\", \n",
    "    \"Burglary\", \n",
    "    \"Larceny- theft\", \n",
    "    \"Motor vehicle theft\",\n",
    "    \"Arson\",\n",
    "    \"Other assaults\",\n",
    "    \"Forgery and counterfeiting\",\n",
    "    \"Fraud\",\n",
    "    \"Embezzlement\",\n",
    "    \"Stolen property\",\n",
    "    \"Vandalism\",\n",
    "    \"Weapons\",\n",
    "    \"Prostitution\",\n",
    "    \"Sex offenses (except rape and prostitution)\",\n",
    "    \"Drug abuse violations\",\n",
    "    \"Gambling\",\n",
    "    \"Offenses against the family and children\",\n",
    "    \"Driving under the influence\",\n",
    "    \"Liquor laws\",\n",
    "    \"Drunkenness\",\n",
    "    \"Disorderly conduct\",\n",
    "    \"Vagrancy\",\n",
    "    \"All other offenses (except traffic)\",\n",
    "    \"Suspicion\",\n",
    "    \"Curfew and loitering law violations\"\n",
    "]\n",
    "\n",
    "for crime in crimes:\n",
    "    print(f\"Adding {crime} arrests...\")\n",
    "    for index, row in csv_data.iterrows():\n",
    "        if not pd.isnull(row['State']):\n",
    "            # Add retrieved data to dataframe column\n",
    "            df.loc[df.index[df['State'].str.upper() == row['State']], crime + \" arrests\"] = csv_data[crime][index+1]        \n",
    "            \n",
    "print(\"Done!\")"
   ]
  },
  {
   "cell_type": "markdown",
   "id": "a3931db6-b9f4-435c-a4b0-b576b69e475f",
   "metadata": {},
   "source": [
    " ### Even more comments...\n",
    "---"
   ]
  },
  {
   "cell_type": "code",
   "execution_count": null,
   "id": "61b7120d-154d-4bc7-ab76-638f8b212c83",
   "metadata": {},
   "outputs": [],
   "source": [
    "# Data retrieved from The Cook Political Report (https://www.cookpolitical.com/2020-national-popular-vote-tracker)\n",
    "csv_data = pd.read_csv(\"data/2020-national-popular-vote.csv\")\n",
    "csv_data = csv_data.reset_index()\n",
    "\n",
    "print(\"Adding electoral results...\")\n",
    "for index, row in csv_data.iterrows():\n",
    "    df.loc[df.index[df['State'] == row['state']], \"Electoral Result\"] = row['called']  \n",
    "    \n",
    "print(\"Done!\")"
   ]
  },
  {
   "cell_type": "code",
   "execution_count": null,
   "id": "2a67f949-cf73-45f9-a8c0-a30227788de6",
   "metadata": {},
   "outputs": [],
   "source": [
    "# Save to csv\n",
    "try:\n",
    "    df.to_csv('collected_data.csv', index=False)\n",
    "    print(\"Successfully saved to csv!\")\n",
    "except PermissionError:\n",
    "    print(\"Insufficient permission to save the csv file, do you have the output file open?\")\n",
    "    print(\"File saving failed!\")"
   ]
  },
  {
   "cell_type": "code",
   "execution_count": null,
   "id": "1bb09ede-978b-432e-be92-591bed5a48db",
   "metadata": {},
   "outputs": [],
   "source": []
  }
 ],
 "metadata": {
  "kernelspec": {
   "display_name": "Python 3 (ipykernel)",
   "language": "python",
   "name": "python3"
  },
  "language_info": {
   "codemirror_mode": {
    "name": "ipython",
    "version": 3
   },
   "file_extension": ".py",
   "mimetype": "text/x-python",
   "name": "python",
   "nbconvert_exporter": "python",
   "pygments_lexer": "ipython3",
   "version": "3.9.7"
  }
 },
 "nbformat": 4,
 "nbformat_minor": 5
}
