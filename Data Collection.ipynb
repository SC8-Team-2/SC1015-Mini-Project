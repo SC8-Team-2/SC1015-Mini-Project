{
 "cells": [
  {
   "cell_type": "code",
   "execution_count": 1,
   "id": "ea642ff5-47b5-48d5-b525-26affc07c3d9",
   "metadata": {},
   "outputs": [
    {
     "name": "stdout",
     "output_type": "stream",
     "text": [
      "Retrieving PST045221 - Population Estimate dataset...\n",
      "Retrieving SEX255220 - Sex (Female persons, percent) dataset...\n",
      "Retrieving RHI125220 - Race (White Alone) dataset...\n",
      "Retrieving RHI225220 - Race (Black Alone) dataset...\n",
      "Retrieving RHI425220 - Race (Asian Alone) dataset...\n",
      "Retrieving VET605220 - Veterans dataset...\n",
      "Retrieving HSG445220 - Owner-occupied housing unit rate dataset...\n",
      "Retrieving HSG495220 - Median value of owner-occupied housing units dataset...\n",
      "Retrieving HSG860220 - Median gross rent dataset...\n",
      "Retrieving HSD310220 - Persons per household dataset...\n",
      "Retrieving POP715220 - Living in same house 1 year ago dataset...\n",
      "Retrieving COM100220 - Households with a computer dataset...\n",
      "Retrieving INT100220 - Households with a broadband internet subscription dataset...\n",
      "Retrieving EDU635220 - High school graduate or higher, percent above 25 years dataset...\n",
      "Retrieving EDU685220 - Bachelors degree or higher, percent above 25 years dataset...\n",
      "Retrieving DIS010220 - With a disability, percent under 25 years dataset...\n",
      "Retrieving HEA775220 - Without health insurance, percent under 25 years dataset...\n",
      "Retrieving LFE041220 - In civilian labour force, total, percent above 16 years dataset...\n",
      "Retrieving LFE046220 - In civilian labour force, female, percent above 16 years dataset...\n",
      "Retrieving AFN120212 - Total accomodation and food services sales ($1000) 2012 dataset...\n",
      "Retrieving HCN010212 - Total health care and social assistance revenue ($1000) 2012 dataset...\n",
      "Retrieving MAN450212 - Total manufacturers shipments ($1000) 2012 dataset...\n",
      "Retrieving LFE305220 - Mean time to travel to work (minutes) dataset...\n",
      "Retrieving INC110220 - Median household income dataset...\n",
      "Retrieving INC910220 - Per capita income dataset...\n",
      "Retrieving IPE120220 - Persons in poverty, percent dataset...\n",
      "Retrieving BZA010219 - Total employer establishments dataset...\n",
      "Retrieving BZA110219 - Total employment dataset...\n",
      "Retrieving BZA210219 - Total annual payroll ($1000) dataset...\n",
      "Retrieving SBO010212 - Men-owned firms dataset...\n",
      "Retrieving SBO020212 - Women-owned firms dataset...\n",
      "Retrieving SBO030212 - Minority-owned firms dataset...\n",
      "Retrieving SBO040212 - Nonminority-owned firms dataset...\n",
      "Retrieving LND110210 - Land area in square miles dataset...\n"
     ]
    }
   ],
   "source": [
    "import pandas as pd\n",
    "\n",
    "states = {\n",
    "    'State': [\"Alabama\", \"Alaska\", \"Arizona\", \"Arkansas\", \"California\", \"Colorado\", \"Connecticut\", \"Delaware\", \"District Of Columbia\", \"Florida\", \"Georgia\", \"Hawaii\", \"Idaho\", \"Illinois\", \"Indiana\", \"Iowa\", \"Kansas\", \"Kentucky\", \"Louisiana\", \"Maine\", \"Maryland\", \"Massachusetts\", \"Michigan\", \"Minnesota\", \"Mississippi\", \"Missouri\", \"Montana\", \"Nebraska\", \"Nevada\", \"New Hampshire\", \"New Jersey\", \"New Mexico\", \"New York\", \"North Carolina\", \"North Dakota\", \"Ohio\", \"Oklahoma\", \"Oregon\", \"Pennsylvania\", \"Rhode Island\", \"South Carolina\", \"South Dakota\", \"Tennessee\", \"Texas\", \"Utah\", \"Vermont\", \"Virginia\", \"Washington\", \"West Virginia\", \"Wisconsin\", \"Wyoming\"], \n",
    "    'Code': [\"AL\", \"AK\", \"AZ\", \"AR\", \"CA\", \"CO\", \"CT\", \"DE\", \"DC\", \"FL\", \"GA\", \"HI\", \"ID\", \"IL\", \"IN\", \"IA\", \"KS\", \"KY\", \"LA\", \"ME\", \"MD\", \"MA\", \"MI\", \"MN\", \"MS\", \"MO\", \"MT\", \"NE\", \"NV\", \"NH\", \"NJ\", \"NM\", \"NY\", \"NC\", \"ND\", \"OH\", \"OK\", \"OR\", \"PA\", \"RI\", \"SC\", \"SD\", \"TN\", \"TX\", \"UT\", \"VT\", \"VA\", \"WA\", \"WV\", \"WI\", \"WY\"]\n",
    "}  \n",
    "df = pd.DataFrame(states)\n",
    "\n",
    "# Retrieved from U.S. Census Bureau (https://www.census.gov/quickfacts)\n",
    "datasets = [\n",
    "    ['PST045221', 'Population Estimate'],\n",
    "    ['SEX255220', 'Sex (Female persons, percent)'],\n",
    "    ['RHI125220', 'Race (White Alone)'],\n",
    "    ['RHI225220', 'Race (Black Alone)'],\n",
    "    ['RHI425220', 'Race (Asian Alone)'],\n",
    "    ['VET605220', 'Veterans'],\n",
    "    ['HSG445220', 'Owner-occupied housing unit rate'],\n",
    "    ['HSG495220', 'Median value of owner-occupied housing units'],\n",
    "    ['HSG860220', 'Median gross rent'],\n",
    "    ['HSD310220', 'Persons per household'],\n",
    "    ['POP715220', 'Living in same house 1 year ago'],\n",
    "    ['COM100220', 'Households with a computer'],\n",
    "    ['INT100220', 'Households with a broadband internet subscription'],\n",
    "    ['EDU635220', 'High school graduate or higher, percent above 25 years'],\n",
    "    ['EDU685220', 'Bachelors degree or higher, percent above 25 years'],\n",
    "    ['DIS010220', 'With a disability, percent under 25 years'],\n",
    "    ['HEA775220', 'Without health insurance, percent under 25 years'],\n",
    "    ['LFE041220', 'In civilian labour force, total, percent above 16 years'],\n",
    "    ['LFE046220', 'In civilian labour force, female, percent above 16 years'],\n",
    "    ['AFN120212', 'Total accomodation and food services sales ($1000) 2012'],\n",
    "    ['HCN010212', 'Total health care and social assistance revenue ($1000) 2012'],\n",
    "    ['MAN450212', 'Total manufacturers shipments ($1000) 2012'],\n",
    "    ['LFE305220', 'Mean time to travel to work (minutes)'],\n",
    "    ['INC110220', 'Median household income'],\n",
    "    ['INC910220', 'Per capita income'],\n",
    "    ['IPE120220', 'Persons in poverty, percent'],\n",
    "    ['BZA010219', 'Total employer establishments'],\n",
    "    ['BZA110219', 'Total employment'],\n",
    "    ['BZA210219', 'Total annual payroll ($1000)'],\n",
    "    ['SBO010212', 'Men-owned firms'],\n",
    "    ['SBO020212', 'Women-owned firms'],\n",
    "    ['SBO030212', 'Minority-owned firms'],\n",
    "    ['SBO040212', 'Nonminority-owned firms'],\n",
    "    ['LND110210', 'Land area in square miles']\n",
    "]\n",
    "\n",
    "import requests\n",
    "import json\n",
    "\n",
    "for dataset in datasets:\n",
    "    print(f\"Retrieving {dataset[0]} - {dataset[1]} dataset...\")\n",
    "    data = requests.get(f\"https://www.census.gov/quickfacts/geo/json/00/{dataset[0]}\").json()\n",
    "    state_dict = data['data']\n",
    "    for state in state_dict:\n",
    "        df.loc[df.index[df['Code'] == state_dict[state]['shortName']], dataset[1]] = state_dict[state]['data'][dataset[0]]['value']"
   ]
  },
  {
   "cell_type": "code",
   "execution_count": 2,
   "id": "74bd7fed-60d5-43fe-856d-8d5b5ef613bb",
   "metadata": {},
   "outputs": [
    {
     "name": "stdout",
     "output_type": "stream",
     "text": [
      "Adding Total all classes arrests...\n",
      "Adding Violent crime arrests...\n",
      "Adding Property crime arrests...\n",
      "Adding Murder and nonnegligent manslaughter arrests...\n",
      "Adding Rape arrests...\n",
      "Adding Robbery arrests...\n",
      "Adding Aggravated assault arrests...\n",
      "Adding Burglary arrests...\n",
      "Adding Larceny- theft arrests...\n",
      "Adding Motor vehicle theft arrests...\n",
      "Adding Arson arrests...\n",
      "Adding Other assaults arrests...\n",
      "Adding Forgery and counterfeiting arrests...\n",
      "Adding Fraud arrests...\n",
      "Adding Embezzlement arrests...\n",
      "Adding Stolen property arrests...\n",
      "Adding Vandalism arrests...\n",
      "Adding Weapons arrests...\n",
      "Adding Prostitution arrests...\n",
      "Adding Sex offenses (except rape and prostitution) arrests...\n",
      "Adding Drug  abuse violations arrests...\n",
      "Adding Gambling arrests...\n",
      "Adding Offenses against the family and children arrests...\n",
      "Adding Driving under the influence arrests...\n",
      "Adding Liquor laws arrests...\n",
      "Adding Drunkenness arrests...\n",
      "Adding Disorderly conduct arrests...\n",
      "Adding Vagrancy arrests...\n",
      "Adding All other offenses (except traffic) arrests...\n",
      "Adding Suspicion arrests...\n",
      "Adding Curfew and loitering law violations arrests...\n"
     ]
    }
   ],
   "source": [
    "# Data retrieved from U.S. FBI Uniform Crime Reporting (https://ucr.fbi.gov/crime-in-the-u.s/2019/crime-in-the-u.s.-2019/downloads/download-printable-files)\n",
    "csv_data = pd.read_csv(\"data/Table_69_Arrest_by_State_2019.csv\")\n",
    "csv_data = csv_data.reset_index()\n",
    "\n",
    "crimes = [\n",
    "    \"Total all classes\", \n",
    "    \"Violent crime\", \n",
    "    \"Property crime\", \n",
    "    \"Murder and nonnegligent manslaughter\", \n",
    "    \"Rape\", \n",
    "    \"Robbery\", \n",
    "    \"Aggravated assault\", \n",
    "    \"Burglary\", \n",
    "    \"Larceny- theft\", \n",
    "    \"Motor vehicle theft\",\n",
    "    \"Arson\",\n",
    "    \"Other assaults\",\n",
    "    \"Forgery and counterfeiting\",\n",
    "    \"Fraud\",\n",
    "    \"Embezzlement\",\n",
    "    \"Stolen property\",\n",
    "    \"Vandalism\",\n",
    "    \"Weapons\",\n",
    "    \"Prostitution\",\n",
    "    \"Sex offenses (except rape and prostitution)\",\n",
    "    \"Drug abuse violations\",\n",
    "    \"Gambling\",\n",
    "    \"Offenses against the family and children\",\n",
    "    \"Driving under the influence\",\n",
    "    \"Liquor laws\",\n",
    "    \"Drunkenness\",\n",
    "    \"Disorderly conduct\",\n",
    "    \"Vagrancy\",\n",
    "    \"All other offenses (except traffic)\",\n",
    "    \"Suspicion\",\n",
    "    \"Curfew and loitering law violations\"\n",
    "]\n",
    "\n",
    "for crime in crimes:\n",
    "    print(f\"Adding {crime} arrests...\")\n",
    "    for index, row in csv_data.iterrows():\n",
    "        if not pd.isnull(row['State']):\n",
    "            #print(csv_data[crime][index+1])\n",
    "            df.loc[df.index[df['State'].str.upper() == row['State']], crime + \" arrests\"] = csv_data[crime][index+1]           \n",
    "#print(df)"
   ]
  },
  {
   "cell_type": "code",
   "execution_count": 3,
   "id": "61b7120d-154d-4bc7-ab76-638f8b212c83",
   "metadata": {},
   "outputs": [
    {
     "name": "stdout",
     "output_type": "stream",
     "text": [
      "Adding electoral results...\n"
     ]
    }
   ],
   "source": [
    "# Data retrieved from The Cook Political Report (https://www.cookpolitical.com/2020-national-popular-vote-tracker)\n",
    "csv_data = pd.read_csv(\"data/2020-national-popular-vote.csv\")\n",
    "csv_data = csv_data.reset_index()\n",
    "\n",
    "print(\"Adding electoral results...\")\n",
    "for index, row in csv_data.iterrows():\n",
    "    df.loc[df.index[df['State'] == row['state']], \"Electoral Result\"] = row['called']  \n"
   ]
  },
  {
   "cell_type": "code",
   "execution_count": 4,
   "id": "2a67f949-cf73-45f9-a8c0-a30227788de6",
   "metadata": {},
   "outputs": [
    {
     "name": "stdout",
     "output_type": "stream",
     "text": [
      "Successfully saved to csv\n"
     ]
    }
   ],
   "source": [
    "# Save to csv\n",
    "df.to_csv('collected_data.csv', index=False)\n",
    "print(\"Successfully saved to csv\")"
   ]
  },
  {
   "cell_type": "code",
   "execution_count": null,
   "id": "d2f04af3-f709-4809-b0d0-a9f1b1e04da9",
   "metadata": {},
   "outputs": [],
   "source": []
  },
  {
   "cell_type": "code",
   "execution_count": null,
   "id": "6279084b-2a01-47e6-8c41-2c0b59d6ed39",
   "metadata": {},
   "outputs": [],
   "source": []
  }
 ],
 "metadata": {
  "kernelspec": {
   "display_name": "conda",
   "language": "python",
   "name": "conda"
  },
  "language_info": {
   "codemirror_mode": {
    "name": "ipython",
    "version": 3
   },
   "file_extension": ".py",
   "mimetype": "text/x-python",
   "name": "python",
   "nbconvert_exporter": "python",
   "pygments_lexer": "ipython3",
   "version": "3.9.6"
  }
 },
 "nbformat": 4,
 "nbformat_minor": 5
}
