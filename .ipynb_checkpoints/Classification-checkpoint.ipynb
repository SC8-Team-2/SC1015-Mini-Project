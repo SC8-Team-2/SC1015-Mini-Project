{
 "cells": [
  {
   "cell_type": "markdown",
   "id": "6614aef8",
   "metadata": {},
   "source": [
    "## Decision Tree"
   ]
  },
  {
   "cell_type": "code",
   "execution_count": null,
   "id": "618cd64c",
   "metadata": {},
   "outputs": [],
   "source": [
    "#find best numeric variables\n",
    "from sklearn.tree import DecisionTreeClassifier\n",
    "from sklearn.model_selection import train_test_split\n",
    "\n",
    "def varacc(a,b):\n",
    "    # Predict the Response corresponding to Predictors\n",
    "    \n",
    "    # Extract Response and Predictors\n",
    "    y = pd.DataFrame(new_df[a])\n",
    "    X = pd.DataFrame(new_df[b])\n",
    "\n",
    "# Split the Dataset into Train and Test\n",
    "    X_train, X_test, y_train, y_test = train_test_split(X, y, test_size = 0.2)\n",
    "\n",
    "# Decision Tree using Train Data\n",
    "    dectree = DecisionTreeClassifier(max_depth = 4)  # create the decision tree object\n",
    "    dectree.fit(X_train, y_train)                    # train the decision tree model\n",
    "    y_train_pred = dectree.predict(X_train)\n",
    "    print(\"Train Data for \" +  a)\n",
    "    print(\"Accuracy  :\\t\", dectree.score(X_train, y_train))\n",
    "    print()\n",
    "    return \n",
    "\n",
    "#numeric vars\n",
    "for col in new_df:\n",
    "    if new_df[col].dtypes != \"object\":\n",
    "        y = pd.DataFrame(new_df[\"STATUS\"])\n",
    "        X = pd.DataFrame(new_df[col])\n",
    "\n",
    "    # Split the Dataset into Train and Test\n",
    "        X_train, X_test, y_train, y_test = train_test_split(X, y, test_size = 0.2)\n",
    "\n",
    "    # Decision Tree using Train Data\n",
    "        dectree = DecisionTreeClassifier(max_depth = 4)  # create the decision tree object\n",
    "        dectree.fit(X_train, y_train)                    # train the decision tree model\n",
    "        y_train_pred = dectree.predict(X_train)\n",
    "        print(\"Train Data for \" +  col)\n",
    "        print(\"Accuracy  :\\t\", dectree.score(X_train, y_train))\n",
    "        print()"
   ]
  },
  {
   "cell_type": "code",
   "execution_count": null,
   "id": "79bef71b",
   "metadata": {},
   "outputs": [],
   "source": [
    "non_int = [\"ID\",\"STATUS\",\"TOTAL_GOOD_DEBT\",\"TOTAL_BAD_DEBT\"]\n",
    "for col in new_df:\n",
    "    if new_df[col].dtypes == \"object\":\n",
    "        non_int.append(col)\n",
    "x1 = new_df.drop(columns=non_int)\n",
    "x1"
   ]
  },
  {
   "cell_type": "code",
   "execution_count": null,
   "id": "eeaa28dc",
   "metadata": {},
   "outputs": [],
   "source": [
    "import matplotlib.pyplot as plt \n",
    "import seaborn as sb\n",
    "sb.set()\n",
    "\n",
    "from sklearn.tree import DecisionTreeClassifier\n",
    "from sklearn.model_selection import train_test_split\n",
    "from sklearn.metrics import confusion_matrix\n",
    "\n",
    "\n",
    "non_int = [\"ID\",\"STATUS\",\"TOTAL_GOOD_DEBT\",\"TOTAL_BAD_DEBT\"]\n",
    "for col in new_df:\n",
    "    if new_df[col].dtypes == \"object\":\n",
    "        non_int.append(col)\n",
    "x1 = new_df.drop(columns=non_int) \n",
    "y1 = pd.DataFrame(new_df['STATUS'])\n",
    "#x1 =pd.DataFrame(new_df[[\"\"]])\n",
    "X_train1, X_test1, y_train1, y_test1 = train_test_split(x1,y1, test_size = 0.2)\n",
    "\n",
    "dectree = DecisionTreeClassifier(max_depth = 2) # create the decision tree object\n",
    "dectree.fit(X_train1, y_train1)                    # train the decision tree model\n",
    "\n",
    "# Predict Response corresponding to Predictors\n",
    "y_train_pred1 = dectree.predict(X_train1)\n",
    "y_test_pred1 = dectree.predict(X_test1)\n",
    "\n",
    "# Check the Goodness of Fit (on Train Data)\n",
    "print(\"Goodness of Fit of Model \\tTrain Dataset\")\n",
    "print(\"Classification Accuracy \\t:\", dectree.score(X_train1, y_train1))\n",
    "print()\n",
    "\n",
    "# Check the Goodness of Fit (on Test Data)\n",
    "print(\"Goodness of Fit of Model \\tTest Dataset\")\n",
    "print(\"Classification Accuracy \\t:\", dectree.score(X_test1, y_test1))\n",
    "print()"
   ]
  },
  {
   "cell_type": "code",
   "execution_count": null,
   "id": "d1f78968",
   "metadata": {},
   "outputs": [],
   "source": [
    "# Plot the Confusion Matrix for Train and Test\n",
    "f, axes = plt.subplots(1, 2, figsize=(12, 4))\n",
    "sb.heatmap(confusion_matrix(y_train1, y_train_pred1),\n",
    "           annot = True, fmt=\".0f\", annot_kws={\"size\": 18}, ax = axes[0])\n",
    "sb.heatmap(confusion_matrix(y_test1, y_test_pred1), \n",
    "           annot = True, fmt=\".0f\", annot_kws={\"size\": 18}, ax = axes[1])"
   ]
  },
  {
   "cell_type": "code",
   "execution_count": null,
   "id": "a3d3fbac",
   "metadata": {},
   "outputs": [],
   "source": [
    "from sklearn.tree import plot_tree\n",
    "\n",
    "f = plt.figure(figsize=(12,12))\n",
    "plot_tree(dectree, filled=True, rounded=True, \n",
    "          feature_names=X_train1.columns, \n",
    "          class_names=[\"Bad\",\"Good\"])"
   ]
  }
 ],
 "metadata": {
  "kernelspec": {
   "display_name": "Python 3 (ipykernel)",
   "language": "python",
   "name": "python3"
  },
  "language_info": {
   "codemirror_mode": {
    "name": "ipython",
    "version": 3
   },
   "file_extension": ".py",
   "mimetype": "text/x-python",
   "name": "python",
   "nbconvert_exporter": "python",
   "pygments_lexer": "ipython3",
   "version": "3.9.7"
  }
 },
 "nbformat": 4,
 "nbformat_minor": 5
}
