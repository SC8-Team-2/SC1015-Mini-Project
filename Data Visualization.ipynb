{
 "cells": [
  {
   "cell_type": "code",
   "execution_count": null,
   "id": "9dcf744b-96c3-47c5-bf81-3c88472fb5be",
   "metadata": {},
   "outputs": [],
   "source": [
    "#imbalance\n",
    "countY, countX = new_df.STATUS.value_counts()\n",
    "print(\"Ratio of classes is Y : N = \", countY, \":\", countX)"
   ]
  }
 ],
 "metadata": {
  "kernelspec": {
   "display_name": "Python 3 (ipykernel)",
   "language": "python",
   "name": "python3"
  },
  "language_info": {
   "codemirror_mode": {
    "name": "ipython",
    "version": 3
   },
   "file_extension": ".py",
   "mimetype": "text/x-python",
   "name": "python",
   "nbconvert_exporter": "python",
   "pygments_lexer": "ipython3",
   "version": "3.9.6"
  }
 },
 "nbformat": 4,
 "nbformat_minor": 5
}
