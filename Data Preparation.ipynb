{
 "cells": [
  {
   "cell_type": "code",
   "execution_count": 20,
   "id": "7c9a7d87-eb57-422b-ae9b-292261b094b3",
   "metadata": {},
   "outputs": [
    {
     "data": {
      "text/plain": [
       "(438557, 18)"
      ]
     },
     "execution_count": 20,
     "metadata": {},
     "output_type": "execute_result"
    }
   ],
   "source": [
    "import pandas as pd\n",
    "import numpy as np\n",
    "\n",
    "# Import applications dataset\n",
    "application_record = pd.read_csv(\"data/application_record.csv\")\n",
    "application_record.shape"
   ]
  },
  {
   "cell_type": "code",
   "execution_count": 21,
   "id": "f43fbaec-706d-4e9e-a484-d842606239f7",
   "metadata": {},
   "outputs": [],
   "source": [
    "# Remove Duplicates\n",
    "application_record.drop_duplicates(subset =\"ID\", keep = False, inplace = True)"
   ]
  },
  {
   "cell_type": "code",
   "execution_count": 22,
   "id": "68c53e24-d4bd-462d-a4bb-4e8069bf96b8",
   "metadata": {},
   "outputs": [],
   "source": [
    "# Remove Y with 1 and N with 0\n",
    "application_record['FLAG_OWN_CAR'] = np.where(application_record['FLAG_OWN_CAR'].eq('Y', 'N'), 1, 0)\n",
    "application_record['FLAG_OWN_REALTY'] = np.where(application_record['FLAG_OWN_REALTY'].eq('Y', 'N'), 1, 0)"
   ]
  },
  {
   "cell_type": "code",
   "execution_count": 23,
   "id": "f0ddea80-0e77-411f-95f5-676491117e37",
   "metadata": {},
   "outputs": [],
   "source": [
    "# Calculate age and working years\n",
    "application_record['APPLICANT_AGE'] = round(-application_record['DAYS_BIRTH'] / 365)\n",
    "application_record['YEARS_WORKING'] = round(-application_record['DAYS_EMPLOYED'] / 365)"
   ]
  },
  {
   "cell_type": "code",
   "execution_count": 24,
   "id": "75433cf3-e075-419e-82ac-a82693bbaceb",
   "metadata": {},
   "outputs": [],
   "source": [
    "# Remove applcations < 21 years old\n",
    "application_record = application_record[application_record['APPLICANT_AGE'] >= 21]  \n",
    "\n",
    "# Remove rows with null columns\n",
    "application_record = application_record.dropna()"
   ]
  },
  {
   "cell_type": "code",
   "execution_count": 25,
   "id": "5c9fa845-b2f5-4c77-aa2a-c1da05155d38",
   "metadata": {},
   "outputs": [
    {
     "data": {
      "text/plain": [
       "(1048575, 3)"
      ]
     },
     "execution_count": 25,
     "metadata": {},
     "output_type": "execute_result"
    }
   ],
   "source": [
    "# Import credit record dataset\n",
    "credit_record = pd.read_csv(\"data/credit_record.csv\")\n",
    "credit_record.shape"
   ]
  },
  {
   "cell_type": "code",
   "execution_count": 26,
   "id": "d1f3608c-50ba-4f4e-a84b-ef99e0d14431",
   "metadata": {},
   "outputs": [
    {
     "data": {
      "text/html": [
       "<div>\n",
       "<style scoped>\n",
       "    .dataframe tbody tr th:only-of-type {\n",
       "        vertical-align: middle;\n",
       "    }\n",
       "\n",
       "    .dataframe tbody tr th {\n",
       "        vertical-align: top;\n",
       "    }\n",
       "\n",
       "    .dataframe thead th {\n",
       "        text-align: right;\n",
       "    }\n",
       "</style>\n",
       "<table border=\"1\" class=\"dataframe\">\n",
       "  <thead>\n",
       "    <tr style=\"text-align: right;\">\n",
       "      <th></th>\n",
       "      <th>TOTAL_GOOD_DEBT</th>\n",
       "      <th>TOTAL_BAD_DEBT</th>\n",
       "      <th>STATUS</th>\n",
       "    </tr>\n",
       "    <tr>\n",
       "      <th>ID</th>\n",
       "      <th></th>\n",
       "      <th></th>\n",
       "      <th></th>\n",
       "    </tr>\n",
       "  </thead>\n",
       "  <tbody>\n",
       "    <tr>\n",
       "      <th>5001711</th>\n",
       "      <td>4</td>\n",
       "      <td>0</td>\n",
       "      <td>1</td>\n",
       "    </tr>\n",
       "    <tr>\n",
       "      <th>5001712</th>\n",
       "      <td>19</td>\n",
       "      <td>0</td>\n",
       "      <td>1</td>\n",
       "    </tr>\n",
       "    <tr>\n",
       "      <th>5001713</th>\n",
       "      <td>22</td>\n",
       "      <td>0</td>\n",
       "      <td>1</td>\n",
       "    </tr>\n",
       "    <tr>\n",
       "      <th>5001714</th>\n",
       "      <td>15</td>\n",
       "      <td>0</td>\n",
       "      <td>1</td>\n",
       "    </tr>\n",
       "    <tr>\n",
       "      <th>5001715</th>\n",
       "      <td>60</td>\n",
       "      <td>0</td>\n",
       "      <td>1</td>\n",
       "    </tr>\n",
       "  </tbody>\n",
       "</table>\n",
       "</div>"
      ],
      "text/plain": [
       "         TOTAL_GOOD_DEBT  TOTAL_BAD_DEBT  STATUS\n",
       "ID                                              \n",
       "5001711                4               0       1\n",
       "5001712               19               0       1\n",
       "5001713               22               0       1\n",
       "5001714               15               0       1\n",
       "5001715               60               0       1"
      ]
     },
     "execution_count": 26,
     "metadata": {},
     "output_type": "execute_result"
    }
   ],
   "source": [
    "mapz = {\n",
    "    'C': 'Good Debt', # Loan paid on time\n",
    "    'X': 'Good Debt', # No loan for the month\n",
    "    '0': 'Good Debt', # Loan 1-29 days overdue\n",
    "    '1': 'Bad Debt', # Loan 30-59 days overdue\n",
    "    '2': 'Bad Debt', # Loan 60-89 days overdue\n",
    "    '3': 'Bad Debt', # Loan 90-119 days overdue\n",
    "    '4': 'Bad Debt', # Loan 120-149 days overdue\n",
    "    '5': 'Bad Debt', # Loan > 150 days overdue\n",
    "}\n",
    "credit_record['STATUS_2'] = credit_record['STATUS'].map(mapz)\n",
    "\n",
    "credit_record['TOTAL_GOOD_DEBT'] = np.where(credit_record['STATUS_2'].eq('Good Debt', 'Bad Debt'), 1, 0)\n",
    "credit_record['TOTAL_BAD_DEBT'] = np.where(credit_record['STATUS_2'].eq('Good Debt', 'Bad Debt'), 0, 1)\n",
    "\n",
    "df2 = credit_record.groupby('ID').sum()\n",
    "\n",
    "df2['STATUS'] = np.where(df2['TOTAL_GOOD_DEBT'] >= df2['TOTAL_BAD_DEBT'], 1, 0)\n",
    "df2 = df2.drop(columns=['MONTHS_BALANCE'])\n",
    "\n",
    "# Remove empty debt\n",
    "df2 = df2.dropna()\n",
    "\n",
    "df2.head()"
   ]
  },
  {
   "cell_type": "code",
   "execution_count": 27,
   "id": "319c2e6e-e494-499f-b3fd-f4681bbad8d0",
   "metadata": {},
   "outputs": [
    {
     "data": {
      "text/html": [
       "<div>\n",
       "<style scoped>\n",
       "    .dataframe tbody tr th:only-of-type {\n",
       "        vertical-align: middle;\n",
       "    }\n",
       "\n",
       "    .dataframe tbody tr th {\n",
       "        vertical-align: top;\n",
       "    }\n",
       "\n",
       "    .dataframe thead th {\n",
       "        text-align: right;\n",
       "    }\n",
       "</style>\n",
       "<table border=\"1\" class=\"dataframe\">\n",
       "  <thead>\n",
       "    <tr style=\"text-align: right;\">\n",
       "      <th></th>\n",
       "      <th>ID</th>\n",
       "      <th>CODE_GENDER</th>\n",
       "      <th>FLAG_OWN_CAR</th>\n",
       "      <th>FLAG_OWN_REALTY</th>\n",
       "      <th>CNT_CHILDREN</th>\n",
       "      <th>AMT_INCOME_TOTAL</th>\n",
       "      <th>NAME_INCOME_TYPE</th>\n",
       "      <th>NAME_EDUCATION_TYPE</th>\n",
       "      <th>NAME_FAMILY_STATUS</th>\n",
       "      <th>NAME_HOUSING_TYPE</th>\n",
       "      <th>...</th>\n",
       "      <th>FLAG_WORK_PHONE</th>\n",
       "      <th>FLAG_PHONE</th>\n",
       "      <th>FLAG_EMAIL</th>\n",
       "      <th>OCCUPATION_TYPE</th>\n",
       "      <th>CNT_FAM_MEMBERS</th>\n",
       "      <th>APPLICANT_AGE</th>\n",
       "      <th>YEARS_WORKING</th>\n",
       "      <th>TOTAL_GOOD_DEBT</th>\n",
       "      <th>TOTAL_BAD_DEBT</th>\n",
       "      <th>STATUS</th>\n",
       "    </tr>\n",
       "  </thead>\n",
       "  <tbody>\n",
       "    <tr>\n",
       "      <th>0</th>\n",
       "      <td>5008806</td>\n",
       "      <td>M</td>\n",
       "      <td>1</td>\n",
       "      <td>1</td>\n",
       "      <td>0</td>\n",
       "      <td>112500.0</td>\n",
       "      <td>Working</td>\n",
       "      <td>Secondary / secondary special</td>\n",
       "      <td>Married</td>\n",
       "      <td>House / apartment</td>\n",
       "      <td>...</td>\n",
       "      <td>0</td>\n",
       "      <td>0</td>\n",
       "      <td>0</td>\n",
       "      <td>Security staff</td>\n",
       "      <td>2.0</td>\n",
       "      <td>59.0</td>\n",
       "      <td>3.0</td>\n",
       "      <td>30</td>\n",
       "      <td>0</td>\n",
       "      <td>1</td>\n",
       "    </tr>\n",
       "    <tr>\n",
       "      <th>1</th>\n",
       "      <td>5008808</td>\n",
       "      <td>F</td>\n",
       "      <td>0</td>\n",
       "      <td>1</td>\n",
       "      <td>0</td>\n",
       "      <td>270000.0</td>\n",
       "      <td>Commercial associate</td>\n",
       "      <td>Secondary / secondary special</td>\n",
       "      <td>Single / not married</td>\n",
       "      <td>House / apartment</td>\n",
       "      <td>...</td>\n",
       "      <td>0</td>\n",
       "      <td>1</td>\n",
       "      <td>1</td>\n",
       "      <td>Sales staff</td>\n",
       "      <td>1.0</td>\n",
       "      <td>52.0</td>\n",
       "      <td>8.0</td>\n",
       "      <td>5</td>\n",
       "      <td>0</td>\n",
       "      <td>1</td>\n",
       "    </tr>\n",
       "    <tr>\n",
       "      <th>2</th>\n",
       "      <td>5008809</td>\n",
       "      <td>F</td>\n",
       "      <td>0</td>\n",
       "      <td>1</td>\n",
       "      <td>0</td>\n",
       "      <td>270000.0</td>\n",
       "      <td>Commercial associate</td>\n",
       "      <td>Secondary / secondary special</td>\n",
       "      <td>Single / not married</td>\n",
       "      <td>House / apartment</td>\n",
       "      <td>...</td>\n",
       "      <td>0</td>\n",
       "      <td>1</td>\n",
       "      <td>1</td>\n",
       "      <td>Sales staff</td>\n",
       "      <td>1.0</td>\n",
       "      <td>52.0</td>\n",
       "      <td>8.0</td>\n",
       "      <td>5</td>\n",
       "      <td>0</td>\n",
       "      <td>1</td>\n",
       "    </tr>\n",
       "    <tr>\n",
       "      <th>3</th>\n",
       "      <td>5008810</td>\n",
       "      <td>F</td>\n",
       "      <td>0</td>\n",
       "      <td>1</td>\n",
       "      <td>0</td>\n",
       "      <td>270000.0</td>\n",
       "      <td>Commercial associate</td>\n",
       "      <td>Secondary / secondary special</td>\n",
       "      <td>Single / not married</td>\n",
       "      <td>House / apartment</td>\n",
       "      <td>...</td>\n",
       "      <td>0</td>\n",
       "      <td>1</td>\n",
       "      <td>1</td>\n",
       "      <td>Sales staff</td>\n",
       "      <td>1.0</td>\n",
       "      <td>52.0</td>\n",
       "      <td>8.0</td>\n",
       "      <td>27</td>\n",
       "      <td>0</td>\n",
       "      <td>1</td>\n",
       "    </tr>\n",
       "    <tr>\n",
       "      <th>4</th>\n",
       "      <td>5008811</td>\n",
       "      <td>F</td>\n",
       "      <td>0</td>\n",
       "      <td>1</td>\n",
       "      <td>0</td>\n",
       "      <td>270000.0</td>\n",
       "      <td>Commercial associate</td>\n",
       "      <td>Secondary / secondary special</td>\n",
       "      <td>Single / not married</td>\n",
       "      <td>House / apartment</td>\n",
       "      <td>...</td>\n",
       "      <td>0</td>\n",
       "      <td>1</td>\n",
       "      <td>1</td>\n",
       "      <td>Sales staff</td>\n",
       "      <td>1.0</td>\n",
       "      <td>52.0</td>\n",
       "      <td>8.0</td>\n",
       "      <td>39</td>\n",
       "      <td>0</td>\n",
       "      <td>1</td>\n",
       "    </tr>\n",
       "  </tbody>\n",
       "</table>\n",
       "<p>5 rows × 21 columns</p>\n",
       "</div>"
      ],
      "text/plain": [
       "        ID CODE_GENDER  FLAG_OWN_CAR  FLAG_OWN_REALTY  CNT_CHILDREN  \\\n",
       "0  5008806           M             1                1             0   \n",
       "1  5008808           F             0                1             0   \n",
       "2  5008809           F             0                1             0   \n",
       "3  5008810           F             0                1             0   \n",
       "4  5008811           F             0                1             0   \n",
       "\n",
       "   AMT_INCOME_TOTAL      NAME_INCOME_TYPE            NAME_EDUCATION_TYPE  \\\n",
       "0          112500.0               Working  Secondary / secondary special   \n",
       "1          270000.0  Commercial associate  Secondary / secondary special   \n",
       "2          270000.0  Commercial associate  Secondary / secondary special   \n",
       "3          270000.0  Commercial associate  Secondary / secondary special   \n",
       "4          270000.0  Commercial associate  Secondary / secondary special   \n",
       "\n",
       "     NAME_FAMILY_STATUS  NAME_HOUSING_TYPE  ...  FLAG_WORK_PHONE  FLAG_PHONE  \\\n",
       "0               Married  House / apartment  ...                0           0   \n",
       "1  Single / not married  House / apartment  ...                0           1   \n",
       "2  Single / not married  House / apartment  ...                0           1   \n",
       "3  Single / not married  House / apartment  ...                0           1   \n",
       "4  Single / not married  House / apartment  ...                0           1   \n",
       "\n",
       "   FLAG_EMAIL  OCCUPATION_TYPE CNT_FAM_MEMBERS  APPLICANT_AGE  YEARS_WORKING  \\\n",
       "0           0   Security staff             2.0           59.0            3.0   \n",
       "1           1      Sales staff             1.0           52.0            8.0   \n",
       "2           1      Sales staff             1.0           52.0            8.0   \n",
       "3           1      Sales staff             1.0           52.0            8.0   \n",
       "4           1      Sales staff             1.0           52.0            8.0   \n",
       "\n",
       "   TOTAL_GOOD_DEBT  TOTAL_BAD_DEBT  STATUS  \n",
       "0               30               0       1  \n",
       "1                5               0       1  \n",
       "2                5               0       1  \n",
       "3               27               0       1  \n",
       "4               39               0       1  \n",
       "\n",
       "[5 rows x 21 columns]"
      ]
     },
     "execution_count": 27,
     "metadata": {},
     "output_type": "execute_result"
    }
   ],
   "source": [
    "new_df = pd.merge(application_record, df2, on=\"ID\")\n",
    "new_df = new_df.drop(columns=['DAYS_BIRTH','DAYS_EMPLOYED'])\n",
    "new_df.head()"
   ]
  },
  {
   "cell_type": "code",
   "execution_count": 14,
   "id": "e9ef031d-a0c3-4b66-bfda-67530ebbf02b",
   "metadata": {},
   "outputs": [],
   "source": [
    "new_df.to_csv('data/processed_data.csv', index=False)"
   ]
  },
  {
   "cell_type": "code",
   "execution_count": 31,
   "id": "66c308bd",
   "metadata": {},
   "outputs": [
    {
     "name": "stdout",
     "output_type": "stream",
     "text": [
      "<class 'pandas.core.frame.DataFrame'>\n",
      "Int64Index: 25134 entries, 0 to 25133\n",
      "Data columns (total 21 columns):\n",
      " #   Column               Non-Null Count  Dtype  \n",
      "---  ------               --------------  -----  \n",
      " 0   ID                   25134 non-null  int64  \n",
      " 1   CODE_GENDER          25134 non-null  object \n",
      " 2   FLAG_OWN_CAR         25134 non-null  int32  \n",
      " 3   FLAG_OWN_REALTY      25134 non-null  int32  \n",
      " 4   CNT_CHILDREN         25134 non-null  int64  \n",
      " 5   AMT_INCOME_TOTAL     25134 non-null  float64\n",
      " 6   NAME_INCOME_TYPE     25134 non-null  object \n",
      " 7   NAME_EDUCATION_TYPE  25134 non-null  object \n",
      " 8   NAME_FAMILY_STATUS   25134 non-null  object \n",
      " 9   NAME_HOUSING_TYPE    25134 non-null  object \n",
      " 10  FLAG_MOBIL           25134 non-null  int64  \n",
      " 11  FLAG_WORK_PHONE      25134 non-null  int64  \n",
      " 12  FLAG_PHONE           25134 non-null  int64  \n",
      " 13  FLAG_EMAIL           25134 non-null  int64  \n",
      " 14  OCCUPATION_TYPE      25134 non-null  object \n",
      " 15  CNT_FAM_MEMBERS      25134 non-null  float64\n",
      " 16  APPLICANT_AGE        25134 non-null  float64\n",
      " 17  YEARS_WORKING        25134 non-null  float64\n",
      " 18  TOTAL_GOOD_DEBT      25134 non-null  int32  \n",
      " 19  TOTAL_BAD_DEBT       25134 non-null  int32  \n",
      " 20  STATUS               25134 non-null  int32  \n",
      "dtypes: float64(4), int32(5), int64(6), object(6)\n",
      "memory usage: 3.7+ MB\n"
     ]
    }
   ],
   "source": [
    "new_df.info()"
   ]
  },
  {
   "cell_type": "code",
   "execution_count": 48,
   "id": "ae3c3ab3",
   "metadata": {},
   "outputs": [],
   "source": [
    "\n",
    "import matplotlib.pyplot as plt \n",
    "import seaborn as sb\n",
    "sb.set()\n",
    "\n",
    "from sklearn.tree import DecisionTreeClassifier\n",
    "from sklearn.model_selection import train_test_split\n",
    "from sklearn.metrics import confusion_matrix\n",
    "\n",
    "y = pd.DataFrame(new_df[\"STATUS\"])\n",
    "x = pd.DataFrame(new_df[[\"AMT_INCOME_TOTAL\",\"APPLICANT_AGE\",\"YEARS_WORKING\",\"CNT_FAM_MEMBERS\"]])\n",
    "X_train, X_test, y_train, y_test = train_test_split(x,y, test_size = 0.25)\n"
   ]
  },
  {
   "cell_type": "code",
   "execution_count": 49,
   "id": "4133d50b",
   "metadata": {},
   "outputs": [
    {
     "name": "stdout",
     "output_type": "stream",
     "text": [
      "Goodness of Fit of Model \tTrain Dataset\n",
      "Classification Accuracy \t: 0.996445623342175\n",
      "\n",
      "Goodness of Fit of Model \tTest Dataset\n",
      "Classification Accuracy \t: 0.9969764481222152\n",
      "\n"
     ]
    },
    {
     "data": {
      "text/plain": [
       "<AxesSubplot:>"
      ]
     },
     "execution_count": 49,
     "metadata": {},
     "output_type": "execute_result"
    },
    {
     "data": {
      "image/png": "[encoded data removed]",
      "text/plain": [
       "<Figure size 864x288 with 4 Axes>"
      ]
     },
     "metadata": {},
     "output_type": "display_data"
    }
   ],
   "source": [
    "dectree = DecisionTreeClassifier(max_depth = 2)  # create the decision tree object\n",
    "dectree.fit(X_train, y_train)                    # train the decision tree model\n",
    "\n",
    "# Predict Response corresponding to Predictors\n",
    "y_train_pred = dectree.predict(X_train)\n",
    "y_test_pred = dectree.predict(X_test)\n",
    "\n",
    "# Check the Goodness of Fit (on Train Data)\n",
    "print(\"Goodness of Fit of Model \\tTrain Dataset\")\n",
    "print(\"Classification Accuracy \\t:\", dectree.score(X_train, y_train))\n",
    "print()\n",
    "\n",
    "# Check the Goodness of Fit (on Test Data)\n",
    "print(\"Goodness of Fit of Model \\tTest Dataset\")\n",
    "print(\"Classification Accuracy \\t:\", dectree.score(X_test, y_test))\n",
    "print()\n",
    "\n",
    "# Plot the Confusion Matrix for Train and Test\n",
    "f, axes = plt.subplots(1, 2, figsize=(12, 4))\n",
    "sb.heatmap(confusion_matrix(y_train, y_train_pred),\n",
    "           annot = True, fmt=\".0f\", annot_kws={\"size\": 18}, ax = axes[0])\n",
    "sb.heatmap(confusion_matrix(y_test, y_test_pred), \n",
    "           annot = True, fmt=\".0f\", annot_kws={\"size\": 18}, ax = axes[1])"
   ]
  },
  {
   "cell_type": "code",
   "execution_count": 47,
   "id": "ec793d5c",
   "metadata": {},
   "outputs": [
    {
     "data": {
      "text/plain": [
       "[Text(334.8, 543.6, 'YEARS_WORKING <= 2.5\\ngini = 0.007\\nsamples = 18850\\nvalue = [68, 18782]\\nclass = Good'),\n",
       " Text(167.4, 326.16, 'AMT_INCOME_TOTAL <= 447750.0\\ngini = 0.015\\nsamples = 4360\\nvalue = [33, 4327]\\nclass = Good'),\n",
       " Text(83.7, 108.72000000000003, 'gini = 0.012\\nsamples = 4285\\nvalue = [26, 4259]\\nclass = Good'),\n",
       " Text(251.10000000000002, 108.72000000000003, 'gini = 0.169\\nsamples = 75\\nvalue = [7, 68]\\nclass = Good'),\n",
       " Text(502.20000000000005, 326.16, 'AMT_INCOME_TOTAL <= 159750.0\\ngini = 0.005\\nsamples = 14490\\nvalue = [35, 14455]\\nclass = Good'),\n",
       " Text(418.5, 108.72000000000003, 'gini = 0.007\\nsamples = 6615\\nvalue = [22, 6593]\\nclass = Good'),\n",
       " Text(585.9, 108.72000000000003, 'gini = 0.003\\nsamples = 7875\\nvalue = [13, 7862]\\nclass = Good')]"
      ]
     },
     "execution_count": 47,
     "metadata": {},
     "output_type": "execute_result"
    },
    {
     "data": {
      "image/png": "[encoded data removed]",
      "text/plain": [
       "<Figure size 864x864 with 1 Axes>"
      ]
     },
     "metadata": {},
     "output_type": "display_data"
    }
   ],
   "source": [
    "from sklearn.tree import plot_tree\n",
    "\n",
    "f = plt.figure(figsize=(12,12))\n",
    "plot_tree(dectree, filled=True, rounded=True, \n",
    "          feature_names=X_train.columns, \n",
    "          class_names=[\"Bad\",\"Good\"])"
   ]
  },
  {
   "cell_type": "code",
   "execution_count": null,
   "id": "1cde8480",
   "metadata": {},
   "outputs": [],
   "source": []
  }
 ],
 "metadata": {
  "kernelspec": {
   "display_name": "Python 3",
   "language": "python",
   "name": "python3"
  },
  "language_info": {
   "codemirror_mode": {
    "name": "ipython",
    "version": 3
   },
   "file_extension": ".py",
   "mimetype": "text/x-python",
   "name": "python",
   "nbconvert_exporter": "python",
   "pygments_lexer": "ipython3",
   "version": "3.8.8"
  }
 },
 "nbformat": 4,
 "nbformat_minor": 5
}
